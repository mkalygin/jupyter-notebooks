{
 "cells": [
  {
   "cell_type": "markdown",
   "metadata": {},
   "source": [
    "# Задача 1. Минимизация гладкой функции"
   ]
  },
  {
   "cell_type": "code",
   "execution_count": 1,
   "metadata": {
    "collapsed": false
   },
   "outputs": [],
   "source": [
    "%matplotlib inline\n",
    "\n",
    "import numpy as np\n",
    "import matplotlib.pyplot as plt\n",
    "from scipy.optimize import minimize, line_search, rosen, differential_evolution\n",
    "\n",
    "def f(x):\n",
    "    return np.sin(x / 5.0) * np.exp(x / 10.0) + 5.0 * np.exp(-x / 2.0)"
   ]
  },
  {
   "cell_type": "code",
   "execution_count": 2,
   "metadata": {
    "collapsed": false
   },
   "outputs": [
    {
     "data": {
      "text/plain": [
       "      fun: 1.7452682903447336\n",
       " hess_inv: array([[ 5.98752645]])\n",
       "      jac: array([ -2.04145908e-06])\n",
       "  message: 'Optimization terminated successfully.'\n",
       "     nfev: 21\n",
       "      nit: 6\n",
       "     njev: 7\n",
       "   status: 0\n",
       "  success: True\n",
       "        x: array([ 4.13627628])"
      ]
     },
     "execution_count": 2,
     "metadata": {},
     "output_type": "execute_result"
    }
   ],
   "source": [
    "minimize(f, 2.0, method = 'BFGS')"
   ]
  },
  {
   "cell_type": "code",
   "execution_count": 3,
   "metadata": {
    "collapsed": false
   },
   "outputs": [
    {
     "data": {
      "text/plain": [
       "      fun: -11.898894665981265\n",
       " hess_inv: array([[ 1.67840334]])\n",
       "      jac: array([  1.19209290e-07])\n",
       "  message: 'Optimization terminated successfully.'\n",
       "     nfev: 18\n",
       "      nit: 5\n",
       "     njev: 6\n",
       "   status: 0\n",
       "  success: True\n",
       "        x: array([ 25.88019347])"
      ]
     },
     "execution_count": 3,
     "metadata": {},
     "output_type": "execute_result"
    }
   ],
   "source": [
    "minimize(f, 30.0, method = 'BFGS')"
   ]
  },
  {
   "cell_type": "code",
   "execution_count": 4,
   "metadata": {
    "collapsed": false
   },
   "outputs": [],
   "source": [
    "def g(x):\n",
    "    sin5 = np.sin(x / 5.0)\n",
    "    cos5 = np.cos(x / 5.0)\n",
    "    exp10 = np.exp(x / 10.0)\n",
    "    exp2 = np.exp(-x / 2.0)\n",
    "    return cos5 * exp10 / 5.0 + sin5 * exp10 / 10.0 - 5.0 * exp2 / 2.0\n",
    "\n",
    "def H(x):\n",
    "    sin5 = np.sin(x / 5.0)\n",
    "    cos5 = np.cos(x / 5.0)\n",
    "    exp10 = np.exp(x / 10.0)\n",
    "    exp2 = np.exp(-x / 2.0)\n",
    "    return cos5 * exp10 / 25.0 - 3.0 * sin5 * exp10 / 25.0 +  5.0 * exp2 / 4.0\n",
    "\n",
    "def print_xk(xk): print(xk)"
   ]
  },
  {
   "cell_type": "code",
   "execution_count": 5,
   "metadata": {
    "collapsed": false
   },
   "outputs": [
    {
     "name": "stdout",
     "output_type": "stream",
     "text": [
      "[ 25.57909388]\n",
      "[ 57.29580311]\n",
      "[ 57.2961018]\n",
      "[ 57.29610948]\n"
     ]
    },
    {
     "data": {
      "text/plain": [
       "      fun: -275.3489418091126\n",
       " hess_inv: array([[ 0.07263739]])\n",
       "      jac: array([  3.23880123e-09])\n",
       "  message: 'Optimization terminated successfully.'\n",
       "     nfev: 22\n",
       "      nit: 4\n",
       "     njev: 18\n",
       "   status: 0\n",
       "  success: True\n",
       "        x: array([ 57.29610948])"
      ]
     },
     "execution_count": 5,
     "metadata": {},
     "output_type": "execute_result"
    }
   ],
   "source": [
    "minimize(f, 12.0, method = 'BFGS', jac = g, callback = print_xk)"
   ]
  },
  {
   "cell_type": "code",
   "execution_count": 6,
   "metadata": {
    "collapsed": false
   },
   "outputs": [
    {
     "name": "stdout",
     "output_type": "stream",
     "text": [
      "[ 25.87982551]\n",
      "[ 25.88019271]\n"
     ]
    },
    {
     "data": {
      "text/plain": [
       "      fun: -11.89889466598129\n",
       " hess_inv: array([[ 123.27578966]])\n",
       "      jac: array([ -1.92103084e-07])\n",
       "  message: 'Optimization terminated successfully.'\n",
       "     nfev: 17\n",
       "      nit: 2\n",
       "     njev: 17\n",
       "   status: 0\n",
       "  success: True\n",
       "        x: array([ 25.88019271])"
      ]
     },
     "execution_count": 6,
     "metadata": {},
     "output_type": "execute_result"
    }
   ],
   "source": [
    "minimize(f, 11.0, method = 'BFGS', jac = g, callback = print_xk)"
   ]
  },
  {
   "cell_type": "code",
   "execution_count": 7,
   "metadata": {
    "collapsed": false
   },
   "outputs": [
    {
     "name": "stdout",
     "output_type": "stream",
     "text": [
      "it 1 before: x_k = 12.00, B_k = 1.00\n",
      "it 1 after: x_k+1 = 25.76, B_k+1 = 0.01\n",
      "it 2 before: x_k = 25.76, B_k = 0.01\n",
      "it 2 after: x_k+1 = 25.88, B_k+1 = 0.59\n",
      "it 3 before: x_k = 25.88, B_k = 0.59\n",
      "it 3 after: x_k+1 = 25.88, B_k+1 = 0.59\n",
      "minimum: x = 25.88024, f(x) = -11.89889\n"
     ]
    }
   ],
   "source": [
    "i = 1\n",
    "eps = 0.001\n",
    "x_k = 12.0\n",
    "B_k = 1.0\n",
    "\n",
    "while (abs(g(x_k)) > eps):\n",
    "    print('it %d before: x_k = %.2f, B_k = %.2f' % (i, x_k, B_k))\n",
    "    \n",
    "    p_k = -g(x_k) / B_k\n",
    "    alpha_k = line_search(f, g, x_k, p_k)[0]\n",
    "    x_k1 = x_k + alpha_k * p_k\n",
    "    \n",
    "    s_k = x_k1 - x_k\n",
    "    y_k = g(x_k1) - g(x_k)\n",
    "    \n",
    "    x_k = x_k1\n",
    "    B_k = y_k / s_k\n",
    "    \n",
    "    print('it %d after: x_k+1 = %.2f, B_k+1 = %.2f' % (i, x_k, B_k))\n",
    "    \n",
    "    i += 1\n",
    "\n",
    "print('minimum: x = %.5f, f(x) = %.5f' % (x_k, f(x_k)))"
   ]
  },
  {
   "cell_type": "code",
   "execution_count": 8,
   "metadata": {
    "collapsed": false
   },
   "outputs": [
    {
     "data": {
      "image/png": "[encoded data removed]",
      "text/plain": [
       "<matplotlib.figure.Figure at 0x3f15a20>"
      ]
     },
     "metadata": {},
     "output_type": "display_data"
    }
   ],
   "source": [
    "dom = np.linspace(1, 30, 1000)\n",
    "\n",
    "plt.plot(dom, f(dom), '-')\n",
    "plt.show()"
   ]
  },
  {
   "cell_type": "markdown",
   "metadata": {},
   "source": [
    "# Задача 2: глобальная оптимизация"
   ]
  },
  {
   "cell_type": "code",
   "execution_count": 9,
   "metadata": {
    "collapsed": false
   },
   "outputs": [
    {
     "data": {
      "text/plain": [
       "     fun: array([-11.89889467])\n",
       "     jac: array([ 0.])\n",
       " message: 'Optimization terminated successfully.'\n",
       "    nfev: 81\n",
       "     nit: 4\n",
       " success: True\n",
       "       x: array([ 25.88019284])"
      ]
     },
     "execution_count": 9,
     "metadata": {},
     "output_type": "execute_result"
    }
   ],
   "source": [
    "differential_evolution(f, [(1, 30)])"
   ]
  },
  {
   "cell_type": "markdown",
   "metadata": {},
   "source": [
    "# Задача 3. Минимизация негладкой функции"
   ]
  },
  {
   "cell_type": "code",
   "execution_count": 10,
   "metadata": {
    "collapsed": false
   },
   "outputs": [
    {
     "data": {
      "image/png": "[encoded data removed]",
      "text/plain": [
       "<matplotlib.figure.Figure at 0x796b978>"
      ]
     },
     "metadata": {},
     "output_type": "display_data"
    }
   ],
   "source": [
    "def h(x):\n",
    "    return f(x).astype(int)\n",
    "\n",
    "plt.plot(dom, h(dom))\n",
    "plt.show()"
   ]
  },
  {
   "cell_type": "code",
   "execution_count": 11,
   "metadata": {
    "collapsed": false
   },
   "outputs": [
    {
     "data": {
      "text/plain": [
       "      fun: array([-5])\n",
       " hess_inv: array([[1]])\n",
       "      jac: array([ 0.])\n",
       "  message: 'Optimization terminated successfully.'\n",
       "     nfev: 3\n",
       "      nit: 0\n",
       "     njev: 1\n",
       "   status: 0\n",
       "  success: True\n",
       "        x: array([ 30.])"
      ]
     },
     "execution_count": 11,
     "metadata": {},
     "output_type": "execute_result"
    }
   ],
   "source": [
    "minimize(h, 30.0, method = 'BFGS')"
   ]
  },
  {
   "cell_type": "code",
   "execution_count": 12,
   "metadata": {
    "collapsed": false
   },
   "outputs": [
    {
     "data": {
      "text/plain": [
       "     fun: -11.0\n",
       " message: 'Optimization terminated successfully.'\n",
       "    nfev: 92\n",
       "     nit: 5\n",
       " success: True\n",
       "       x: array([ 25.73742906])"
      ]
     },
     "execution_count": 12,
     "metadata": {},
     "output_type": "execute_result"
    }
   ],
   "source": [
    "differential_evolution(h, [(1, 30)])"
   ]
  }
 ],
 "metadata": {
  "kernelspec": {
   "display_name": "Python 2",
   "language": "python",
   "name": "python2"
  },
  "language_info": {
   "codemirror_mode": {
    "name": "ipython",
    "version": 2
   },
   "file_extension": ".py",
   "mimetype": "text/x-python",
   "name": "python",
   "nbconvert_exporter": "python",
   "pygments_lexer": "ipython2",
   "version": "2.7.11"
  }
 },
 "nbformat": 4,
 "nbformat_minor": 0
}
